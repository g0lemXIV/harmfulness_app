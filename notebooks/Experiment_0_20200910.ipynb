{
  "nbformat": 4,
  "nbformat_minor": 0,
  "metadata": {
    "colab": {
      "name": "Untitled0.ipynb",
      "provenance": [],
      "collapsed_sections": [],
      "toc_visible": true
    },
    "kernelspec": {
      "name": "python3",
      "display_name": "Python 3"
    },
    "widgets": {
      "application/vnd.jupyter.widget-state+json": {
        "772408d6c408422e8c0a96ad014ad3d2": {
          "model_module": "@jupyter-widgets/controls",
          "model_name": "HBoxModel",
          "state": {
            "_view_name": "HBoxView",
            "_dom_classes": [],
            "_model_name": "HBoxModel",
            "_view_module": "@jupyter-widgets/controls",
            "_model_module_version": "1.5.0",
            "_view_count": null,
            "_view_module_version": "1.5.0",
            "box_style": "",
            "layout": "IPY_MODEL_fdbe8f72b9824ae1bbd0b8114b73e070",
            "_model_module": "@jupyter-widgets/controls",
            "children": [
              "IPY_MODEL_e0a395de4a0140238a56adfe4e61894d",
              "IPY_MODEL_b613a4d2e527426781bb9d6b2be46c19"
            ]
          }
        },
        "fdbe8f72b9824ae1bbd0b8114b73e070": {
          "model_module": "@jupyter-widgets/base",
          "model_name": "LayoutModel",
          "state": {
            "_view_name": "LayoutView",
            "grid_template_rows": null,
            "right": null,
            "justify_content": null,
            "_view_module": "@jupyter-widgets/base",
            "overflow": null,
            "_model_module_version": "1.2.0",
            "_view_count": null,
            "flex_flow": null,
            "width": null,
            "min_width": null,
            "border": null,
            "align_items": null,
            "bottom": null,
            "_model_module": "@jupyter-widgets/base",
            "top": null,
            "grid_column": null,
            "overflow_y": null,
            "overflow_x": null,
            "grid_auto_flow": null,
            "grid_area": null,
            "grid_template_columns": null,
            "flex": null,
            "_model_name": "LayoutModel",
            "justify_items": null,
            "grid_row": null,
            "max_height": null,
            "align_content": null,
            "visibility": null,
            "align_self": null,
            "height": null,
            "min_height": null,
            "padding": null,
            "grid_auto_rows": null,
            "grid_gap": null,
            "max_width": null,
            "order": null,
            "_view_module_version": "1.2.0",
            "grid_template_areas": null,
            "object_position": null,
            "object_fit": null,
            "grid_auto_columns": null,
            "margin": null,
            "display": null,
            "left": null
          }
        },
        "e0a395de4a0140238a56adfe4e61894d": {
          "model_module": "@jupyter-widgets/controls",
          "model_name": "FloatProgressModel",
          "state": {
            "_view_name": "ProgressView",
            "style": "IPY_MODEL_fb0dfc08e5504040955c690d8dbabbb0",
            "_dom_classes": [],
            "description": "",
            "_model_name": "FloatProgressModel",
            "bar_style": "success",
            "max": 1,
            "_view_module": "@jupyter-widgets/controls",
            "_model_module_version": "1.5.0",
            "value": 1,
            "_view_count": null,
            "_view_module_version": "1.5.0",
            "orientation": "horizontal",
            "min": 0,
            "description_tooltip": null,
            "_model_module": "@jupyter-widgets/controls",
            "layout": "IPY_MODEL_a89032638265476fa32ed401cf674f15"
          }
        },
        "b613a4d2e527426781bb9d6b2be46c19": {
          "model_module": "@jupyter-widgets/controls",
          "model_name": "HTMLModel",
          "state": {
            "_view_name": "HTMLView",
            "style": "IPY_MODEL_319165e9d5ff42308f65fb2804f2fe21",
            "_dom_classes": [],
            "description": "",
            "_model_name": "HTMLModel",
            "placeholder": "​",
            "_view_module": "@jupyter-widgets/controls",
            "_model_module_version": "1.5.0",
            "value": " 10041/? [01:10&lt;00:00, 141.96it/s]",
            "_view_count": null,
            "_view_module_version": "1.5.0",
            "description_tooltip": null,
            "_model_module": "@jupyter-widgets/controls",
            "layout": "IPY_MODEL_fce2c3afa1164cf38a6ef72c574b636c"
          }
        },
        "fb0dfc08e5504040955c690d8dbabbb0": {
          "model_module": "@jupyter-widgets/controls",
          "model_name": "ProgressStyleModel",
          "state": {
            "_view_name": "StyleView",
            "_model_name": "ProgressStyleModel",
            "description_width": "initial",
            "_view_module": "@jupyter-widgets/base",
            "_model_module_version": "1.5.0",
            "_view_count": null,
            "_view_module_version": "1.2.0",
            "bar_color": null,
            "_model_module": "@jupyter-widgets/controls"
          }
        },
        "a89032638265476fa32ed401cf674f15": {
          "model_module": "@jupyter-widgets/base",
          "model_name": "LayoutModel",
          "state": {
            "_view_name": "LayoutView",
            "grid_template_rows": null,
            "right": null,
            "justify_content": null,
            "_view_module": "@jupyter-widgets/base",
            "overflow": null,
            "_model_module_version": "1.2.0",
            "_view_count": null,
            "flex_flow": null,
            "width": null,
            "min_width": null,
            "border": null,
            "align_items": null,
            "bottom": null,
            "_model_module": "@jupyter-widgets/base",
            "top": null,
            "grid_column": null,
            "overflow_y": null,
            "overflow_x": null,
            "grid_auto_flow": null,
            "grid_area": null,
            "grid_template_columns": null,
            "flex": null,
            "_model_name": "LayoutModel",
            "justify_items": null,
            "grid_row": null,
            "max_height": null,
            "align_content": null,
            "visibility": null,
            "align_self": null,
            "height": null,
            "min_height": null,
            "padding": null,
            "grid_auto_rows": null,
            "grid_gap": null,
            "max_width": null,
            "order": null,
            "_view_module_version": "1.2.0",
            "grid_template_areas": null,
            "object_position": null,
            "object_fit": null,
            "grid_auto_columns": null,
            "margin": null,
            "display": null,
            "left": null
          }
        },
        "319165e9d5ff42308f65fb2804f2fe21": {
          "model_module": "@jupyter-widgets/controls",
          "model_name": "DescriptionStyleModel",
          "state": {
            "_view_name": "StyleView",
            "_model_name": "DescriptionStyleModel",
            "description_width": "",
            "_view_module": "@jupyter-widgets/base",
            "_model_module_version": "1.5.0",
            "_view_count": null,
            "_view_module_version": "1.2.0",
            "_model_module": "@jupyter-widgets/controls"
          }
        },
        "fce2c3afa1164cf38a6ef72c574b636c": {
          "model_module": "@jupyter-widgets/base",
          "model_name": "LayoutModel",
          "state": {
            "_view_name": "LayoutView",
            "grid_template_rows": null,
            "right": null,
            "justify_content": null,
            "_view_module": "@jupyter-widgets/base",
            "overflow": null,
            "_model_module_version": "1.2.0",
            "_view_count": null,
            "flex_flow": null,
            "width": null,
            "min_width": null,
            "border": null,
            "align_items": null,
            "bottom": null,
            "_model_module": "@jupyter-widgets/base",
            "top": null,
            "grid_column": null,
            "overflow_y": null,
            "overflow_x": null,
            "grid_auto_flow": null,
            "grid_area": null,
            "grid_template_columns": null,
            "flex": null,
            "_model_name": "LayoutModel",
            "justify_items": null,
            "grid_row": null,
            "max_height": null,
            "align_content": null,
            "visibility": null,
            "align_self": null,
            "height": null,
            "min_height": null,
            "padding": null,
            "grid_auto_rows": null,
            "grid_gap": null,
            "max_width": null,
            "order": null,
            "_view_module_version": "1.2.0",
            "grid_template_areas": null,
            "object_position": null,
            "object_fit": null,
            "grid_auto_columns": null,
            "margin": null,
            "display": null,
            "left": null
          }
        },
        "488a436a1f4e49eaacfe116af25e53de": {
          "model_module": "@jupyter-widgets/controls",
          "model_name": "HBoxModel",
          "state": {
            "_view_name": "HBoxView",
            "_dom_classes": [],
            "_model_name": "HBoxModel",
            "_view_module": "@jupyter-widgets/controls",
            "_model_module_version": "1.5.0",
            "_view_count": null,
            "_view_module_version": "1.5.0",
            "box_style": "",
            "layout": "IPY_MODEL_9eb1a33c26f643d89ed1091b306befb8",
            "_model_module": "@jupyter-widgets/controls",
            "children": [
              "IPY_MODEL_4e3099a588594c6398f4338f835e9d22",
              "IPY_MODEL_ba666d1eb52d4229a5478cb4c11a510f"
            ]
          }
        },
        "9eb1a33c26f643d89ed1091b306befb8": {
          "model_module": "@jupyter-widgets/base",
          "model_name": "LayoutModel",
          "state": {
            "_view_name": "LayoutView",
            "grid_template_rows": null,
            "right": null,
            "justify_content": null,
            "_view_module": "@jupyter-widgets/base",
            "overflow": null,
            "_model_module_version": "1.2.0",
            "_view_count": null,
            "flex_flow": null,
            "width": null,
            "min_width": null,
            "border": null,
            "align_items": null,
            "bottom": null,
            "_model_module": "@jupyter-widgets/base",
            "top": null,
            "grid_column": null,
            "overflow_y": null,
            "overflow_x": null,
            "grid_auto_flow": null,
            "grid_area": null,
            "grid_template_columns": null,
            "flex": null,
            "_model_name": "LayoutModel",
            "justify_items": null,
            "grid_row": null,
            "max_height": null,
            "align_content": null,
            "visibility": null,
            "align_self": null,
            "height": null,
            "min_height": null,
            "padding": null,
            "grid_auto_rows": null,
            "grid_gap": null,
            "max_width": null,
            "order": null,
            "_view_module_version": "1.2.0",
            "grid_template_areas": null,
            "object_position": null,
            "object_fit": null,
            "grid_auto_columns": null,
            "margin": null,
            "display": null,
            "left": null
          }
        },
        "4e3099a588594c6398f4338f835e9d22": {
          "model_module": "@jupyter-widgets/controls",
          "model_name": "FloatProgressModel",
          "state": {
            "_view_name": "ProgressView",
            "style": "IPY_MODEL_2018171522034779829b020c4e3e123d",
            "_dom_classes": [],
            "description": "100%",
            "_model_name": "FloatProgressModel",
            "bar_style": "success",
            "max": 9696,
            "_view_module": "@jupyter-widgets/controls",
            "_model_module_version": "1.5.0",
            "value": 9696,
            "_view_count": null,
            "_view_module_version": "1.5.0",
            "orientation": "horizontal",
            "min": 0,
            "description_tooltip": null,
            "_model_module": "@jupyter-widgets/controls",
            "layout": "IPY_MODEL_53a8da944ff64d2daac6715d7baf7f91"
          }
        },
        "ba666d1eb52d4229a5478cb4c11a510f": {
          "model_module": "@jupyter-widgets/controls",
          "model_name": "HTMLModel",
          "state": {
            "_view_name": "HTMLView",
            "style": "IPY_MODEL_2641d8a1d247414b9b961077e1cf996a",
            "_dom_classes": [],
            "description": "",
            "_model_name": "HTMLModel",
            "placeholder": "​",
            "_view_module": "@jupyter-widgets/controls",
            "_model_module_version": "1.5.0",
            "value": " 9696/9696 [00:47&lt;00:00, 203.11it/s]",
            "_view_count": null,
            "_view_module_version": "1.5.0",
            "description_tooltip": null,
            "_model_module": "@jupyter-widgets/controls",
            "layout": "IPY_MODEL_290b3df6db4c42daae0236da6fc0cb34"
          }
        },
        "2018171522034779829b020c4e3e123d": {
          "model_module": "@jupyter-widgets/controls",
          "model_name": "ProgressStyleModel",
          "state": {
            "_view_name": "StyleView",
            "_model_name": "ProgressStyleModel",
            "description_width": "initial",
            "_view_module": "@jupyter-widgets/base",
            "_model_module_version": "1.5.0",
            "_view_count": null,
            "_view_module_version": "1.2.0",
            "bar_color": null,
            "_model_module": "@jupyter-widgets/controls"
          }
        },
        "53a8da944ff64d2daac6715d7baf7f91": {
          "model_module": "@jupyter-widgets/base",
          "model_name": "LayoutModel",
          "state": {
            "_view_name": "LayoutView",
            "grid_template_rows": null,
            "right": null,
            "justify_content": null,
            "_view_module": "@jupyter-widgets/base",
            "overflow": null,
            "_model_module_version": "1.2.0",
            "_view_count": null,
            "flex_flow": null,
            "width": null,
            "min_width": null,
            "border": null,
            "align_items": null,
            "bottom": null,
            "_model_module": "@jupyter-widgets/base",
            "top": null,
            "grid_column": null,
            "overflow_y": null,
            "overflow_x": null,
            "grid_auto_flow": null,
            "grid_area": null,
            "grid_template_columns": null,
            "flex": null,
            "_model_name": "LayoutModel",
            "justify_items": null,
            "grid_row": null,
            "max_height": null,
            "align_content": null,
            "visibility": null,
            "align_self": null,
            "height": null,
            "min_height": null,
            "padding": null,
            "grid_auto_rows": null,
            "grid_gap": null,
            "max_width": null,
            "order": null,
            "_view_module_version": "1.2.0",
            "grid_template_areas": null,
            "object_position": null,
            "object_fit": null,
            "grid_auto_columns": null,
            "margin": null,
            "display": null,
            "left": null
          }
        },
        "2641d8a1d247414b9b961077e1cf996a": {
          "model_module": "@jupyter-widgets/controls",
          "model_name": "DescriptionStyleModel",
          "state": {
            "_view_name": "StyleView",
            "_model_name": "DescriptionStyleModel",
            "description_width": "",
            "_view_module": "@jupyter-widgets/base",
            "_model_module_version": "1.5.0",
            "_view_count": null,
            "_view_module_version": "1.2.0",
            "_model_module": "@jupyter-widgets/controls"
          }
        },
        "290b3df6db4c42daae0236da6fc0cb34": {
          "model_module": "@jupyter-widgets/base",
          "model_name": "LayoutModel",
          "state": {
            "_view_name": "LayoutView",
            "grid_template_rows": null,
            "right": null,
            "justify_content": null,
            "_view_module": "@jupyter-widgets/base",
            "overflow": null,
            "_model_module_version": "1.2.0",
            "_view_count": null,
            "flex_flow": null,
            "width": null,
            "min_width": null,
            "border": null,
            "align_items": null,
            "bottom": null,
            "_model_module": "@jupyter-widgets/base",
            "top": null,
            "grid_column": null,
            "overflow_y": null,
            "overflow_x": null,
            "grid_auto_flow": null,
            "grid_area": null,
            "grid_template_columns": null,
            "flex": null,
            "_model_name": "LayoutModel",
            "justify_items": null,
            "grid_row": null,
            "max_height": null,
            "align_content": null,
            "visibility": null,
            "align_self": null,
            "height": null,
            "min_height": null,
            "padding": null,
            "grid_auto_rows": null,
            "grid_gap": null,
            "max_width": null,
            "order": null,
            "_view_module_version": "1.2.0",
            "grid_template_areas": null,
            "object_position": null,
            "object_fit": null,
            "grid_auto_columns": null,
            "margin": null,
            "display": null,
            "left": null
          }
        },
        "ac8db21136104b6485aa424f3674c0e9": {
          "model_module": "@jupyter-widgets/controls",
          "model_name": "HBoxModel",
          "state": {
            "_view_name": "HBoxView",
            "_dom_classes": [],
            "_model_name": "HBoxModel",
            "_view_module": "@jupyter-widgets/controls",
            "_model_module_version": "1.5.0",
            "_view_count": null,
            "_view_module_version": "1.5.0",
            "box_style": "",
            "layout": "IPY_MODEL_25e2935908a243c7b958af6e852f3385",
            "_model_module": "@jupyter-widgets/controls",
            "children": [
              "IPY_MODEL_c7f3367c26e5477d88195f0b24fcbdc8",
              "IPY_MODEL_630fc24024e34a559441037ad62ecc5e"
            ]
          }
        },
        "25e2935908a243c7b958af6e852f3385": {
          "model_module": "@jupyter-widgets/base",
          "model_name": "LayoutModel",
          "state": {
            "_view_name": "LayoutView",
            "grid_template_rows": null,
            "right": null,
            "justify_content": null,
            "_view_module": "@jupyter-widgets/base",
            "overflow": null,
            "_model_module_version": "1.2.0",
            "_view_count": null,
            "flex_flow": null,
            "width": null,
            "min_width": null,
            "border": null,
            "align_items": null,
            "bottom": null,
            "_model_module": "@jupyter-widgets/base",
            "top": null,
            "grid_column": null,
            "overflow_y": null,
            "overflow_x": null,
            "grid_auto_flow": null,
            "grid_area": null,
            "grid_template_columns": null,
            "flex": null,
            "_model_name": "LayoutModel",
            "justify_items": null,
            "grid_row": null,
            "max_height": null,
            "align_content": null,
            "visibility": null,
            "align_self": null,
            "height": null,
            "min_height": null,
            "padding": null,
            "grid_auto_rows": null,
            "grid_gap": null,
            "max_width": null,
            "order": null,
            "_view_module_version": "1.2.0",
            "grid_template_areas": null,
            "object_position": null,
            "object_fit": null,
            "grid_auto_columns": null,
            "margin": null,
            "display": null,
            "left": null
          }
        },
        "c7f3367c26e5477d88195f0b24fcbdc8": {
          "model_module": "@jupyter-widgets/controls",
          "model_name": "FloatProgressModel",
          "state": {
            "_view_name": "ProgressView",
            "style": "IPY_MODEL_073e8c2edd024311afdd4b02dc796ba7",
            "_dom_classes": [],
            "description": "",
            "_model_name": "FloatProgressModel",
            "bar_style": "success",
            "max": 1,
            "_view_module": "@jupyter-widgets/controls",
            "_model_module_version": "1.5.0",
            "value": 1,
            "_view_count": null,
            "_view_module_version": "1.5.0",
            "orientation": "horizontal",
            "min": 0,
            "description_tooltip": null,
            "_model_module": "@jupyter-widgets/controls",
            "layout": "IPY_MODEL_0c2eab2b018441b4945df0b6594db1ec"
          }
        },
        "630fc24024e34a559441037ad62ecc5e": {
          "model_module": "@jupyter-widgets/controls",
          "model_name": "HTMLModel",
          "state": {
            "_view_name": "HTMLView",
            "style": "IPY_MODEL_583bd6131c994c7a85f6e25e351584cd",
            "_dom_classes": [],
            "description": "",
            "_model_name": "HTMLModel",
            "placeholder": "​",
            "_view_module": "@jupyter-widgets/controls",
            "_model_module_version": "1.5.0",
            "value": " 1000/? [00:02&lt;00:00, 421.01it/s]",
            "_view_count": null,
            "_view_module_version": "1.5.0",
            "description_tooltip": null,
            "_model_module": "@jupyter-widgets/controls",
            "layout": "IPY_MODEL_db0e5662368843ef9265d81ac10ce476"
          }
        },
        "073e8c2edd024311afdd4b02dc796ba7": {
          "model_module": "@jupyter-widgets/controls",
          "model_name": "ProgressStyleModel",
          "state": {
            "_view_name": "StyleView",
            "_model_name": "ProgressStyleModel",
            "description_width": "initial",
            "_view_module": "@jupyter-widgets/base",
            "_model_module_version": "1.5.0",
            "_view_count": null,
            "_view_module_version": "1.2.0",
            "bar_color": null,
            "_model_module": "@jupyter-widgets/controls"
          }
        },
        "0c2eab2b018441b4945df0b6594db1ec": {
          "model_module": "@jupyter-widgets/base",
          "model_name": "LayoutModel",
          "state": {
            "_view_name": "LayoutView",
            "grid_template_rows": null,
            "right": null,
            "justify_content": null,
            "_view_module": "@jupyter-widgets/base",
            "overflow": null,
            "_model_module_version": "1.2.0",
            "_view_count": null,
            "flex_flow": null,
            "width": null,
            "min_width": null,
            "border": null,
            "align_items": null,
            "bottom": null,
            "_model_module": "@jupyter-widgets/base",
            "top": null,
            "grid_column": null,
            "overflow_y": null,
            "overflow_x": null,
            "grid_auto_flow": null,
            "grid_area": null,
            "grid_template_columns": null,
            "flex": null,
            "_model_name": "LayoutModel",
            "justify_items": null,
            "grid_row": null,
            "max_height": null,
            "align_content": null,
            "visibility": null,
            "align_self": null,
            "height": null,
            "min_height": null,
            "padding": null,
            "grid_auto_rows": null,
            "grid_gap": null,
            "max_width": null,
            "order": null,
            "_view_module_version": "1.2.0",
            "grid_template_areas": null,
            "object_position": null,
            "object_fit": null,
            "grid_auto_columns": null,
            "margin": null,
            "display": null,
            "left": null
          }
        },
        "583bd6131c994c7a85f6e25e351584cd": {
          "model_module": "@jupyter-widgets/controls",
          "model_name": "DescriptionStyleModel",
          "state": {
            "_view_name": "StyleView",
            "_model_name": "DescriptionStyleModel",
            "description_width": "",
            "_view_module": "@jupyter-widgets/base",
            "_model_module_version": "1.5.0",
            "_view_count": null,
            "_view_module_version": "1.2.0",
            "_model_module": "@jupyter-widgets/controls"
          }
        },
        "db0e5662368843ef9265d81ac10ce476": {
          "model_module": "@jupyter-widgets/base",
          "model_name": "LayoutModel",
          "state": {
            "_view_name": "LayoutView",
            "grid_template_rows": null,
            "right": null,
            "justify_content": null,
            "_view_module": "@jupyter-widgets/base",
            "overflow": null,
            "_model_module_version": "1.2.0",
            "_view_count": null,
            "flex_flow": null,
            "width": null,
            "min_width": null,
            "border": null,
            "align_items": null,
            "bottom": null,
            "_model_module": "@jupyter-widgets/base",
            "top": null,
            "grid_column": null,
            "overflow_y": null,
            "overflow_x": null,
            "grid_auto_flow": null,
            "grid_area": null,
            "grid_template_columns": null,
            "flex": null,
            "_model_name": "LayoutModel",
            "justify_items": null,
            "grid_row": null,
            "max_height": null,
            "align_content": null,
            "visibility": null,
            "align_self": null,
            "height": null,
            "min_height": null,
            "padding": null,
            "grid_auto_rows": null,
            "grid_gap": null,
            "max_width": null,
            "order": null,
            "_view_module_version": "1.2.0",
            "grid_template_areas": null,
            "object_position": null,
            "object_fit": null,
            "grid_auto_columns": null,
            "margin": null,
            "display": null,
            "left": null
          }
        }
      }
    }
  },
  "cells": [
    {
      "cell_type": "markdown",
      "metadata": {
        "id": "ZcooBD3_Xdon",
        "colab_type": "text"
      },
      "source": [
        "\n",
        "# Poleval Automatic Cyberbullying\n",
        "\n",
        "In this task, the participants shall distinguish between three classes of tweets: 0 (non-harmful), 1 (cyberbullying), 2 (hate-speech). There are various definitions of both cyberbullying and hate-speech, some of them even putting those two phenomena in the same group. The specific conditions on which we based our annotations for both cyberbullying and hate-speech, which have been worked out during ten years of research [1] will be summarized in an introductory paper for the task, however, the main and definitive condition to distinguish the two is whether the harmful action is addressed towards a private person(s) (cyberbullying), or a public person/entity/large group (hate-speech).\n",
        "\n",
        "## This notebook contains:\n",
        "\n",
        "- [x] Download train, test data;\n",
        "- [x] Clean the data;\n",
        "- [x] Exploratory analisys;\n",
        "- [x] Modeling;\n",
        "- [x] Model Validation;\n",
        "- [x] Save best model;\n",
        "  \n",
        "  \n",
        "  \n",
        "**AUTHOR:** Rafal Bodziony  \n",
        "**EMAIL:** bodziony.rafal@gmail.com  \n",
        "**LAST UPDATE:** 17.09.2020\n",
        "\n",
        "\n",
        "**More information:** http://2019.poleval.pl/\n",
        "\n",
        "\n",
        "[![Open In Colab](https://colab.research.google.com/assets/colab-badge.svg)](https://github.com/g0lemXIV/harmfulness_app/blob/master/notebooks/Experiment_0_20200910.ipynb)"
      ]
    },
    {
      "cell_type": "markdown",
      "metadata": {
        "id": "LGY0yvkr_8up",
        "colab_type": "text"
      },
      "source": [
        "### Download and load libraries"
      ]
    },
    {
      "cell_type": "code",
      "metadata": {
        "id": "DrFK5OziSJBY",
        "colab_type": "code",
        "colab": {}
      },
      "source": [
        "!pip install spacy==2.3.2\n",
        "!python -m spacy download pl_core_news_sm\n",
        "!pip install langdetect\n",
        "!pip install -U yellowbrick\n",
        "!pip install eli5\n",
        "!pip install -U scikit-learn==0.23.2"
      ],
      "execution_count": null,
      "outputs": []
    },
    {
      "cell_type": "code",
      "metadata": {
        "id": "tKQIlLqaUfZg",
        "colab_type": "code",
        "colab": {}
      },
      "source": [
        "import spacy\n",
        "import pandas as pd\n",
        "from IPython.display import clear_output\n",
        "from langdetect import detect\n",
        "import warnings\n",
        "warnings.filterwarnings('ignore')"
      ],
      "execution_count": 2,
      "outputs": []
    },
    {
      "cell_type": "markdown",
      "metadata": {
        "id": "-TdlWpXbADW9",
        "colab_type": "text"
      },
      "source": [
        "## Clean data\n",
        "\n",
        "**To Do:**\n",
        "- Replace additional \\n;\n",
        "- Delate all digits in string;\n",
        "- Delate twitter account name;\n",
        "- Get only words which is not puntations, stop words (from corpus),\n",
        "length is grater then 3, not a number, currnecy, and email;\n",
        "- Converts all words to lowercases;\n",
        "- Lemmatize all words;"
      ]
    },
    {
      "cell_type": "code",
      "metadata": {
        "id": "em2XJpIPVrLm",
        "colab_type": "code",
        "colab": {
          "base_uri": "https://localhost:8080/",
          "height": 34
        },
        "outputId": "ced9407e-ca60-4b8a-8439-1b49c147e49a"
      },
      "source": [
        "text = pd.read_csv('https://storage.googleapis.com/poleval_data/training_set_clean_only_text.txt', sep=\"\\n\", header=None, names=['text'], encoding='utf-8')\n",
        "tag = pd.read_csv('https://storage.googleapis.com/poleval_data/training_set_clean_only_tags.txt', sep=\"\\n\", header=None, names=['tag'], encoding='utf-8')\n",
        "print(text.shape)\n",
        "\n",
        "def clean_data(data):\n",
        "  data = data.replace(r'\\\\n',' ', regex=True)\n",
        "  data = data.replace(r'\\n',' ', regex=True)\n",
        "  data['text'] = data['text'].str.replace('\\d+', '')\n",
        "  data.text.replace('@anonymized_account', '', regex=True, inplace=True)\n",
        "  data.text.replace('#NAME?', '', regex=True, inplace=True)\n",
        "  return data"
      ],
      "execution_count": 3,
      "outputs": [
        {
          "output_type": "stream",
          "text": [
            "(10041, 1)\n"
          ],
          "name": "stdout"
        }
      ]
    },
    {
      "cell_type": "code",
      "metadata": {
        "id": "EMCmjBOTSGmB",
        "colab_type": "code",
        "colab": {
          "base_uri": "https://localhost:8080/",
          "height": 52
        },
        "outputId": "aae79f09-67d8-44e9-c9c7-e4285c45b338"
      },
      "source": [
        "from spacy.lang.pl.stop_words import STOP_WORDS\n",
        "# Parser for reviews\n",
        "print(\"load corpus\")\n",
        "try:\n",
        "  parser\n",
        "except NameError:\n",
        "  parser = spacy.load('pl_core_news_sm')\n",
        "print('corpus loaded succesfully')\n",
        "def spacy_tokenizer(mytokens):\n",
        "    mytokens = [word for word in mytokens if\n",
        "                word.is_punct == False and word.is_stop == False\n",
        "                and len(word) > 3 \n",
        "                and word.like_num == False \n",
        "                and word.is_currency == False \n",
        "                and word.like_email == False]\n",
        "    mytokens = [word.lemma_.lower().strip() if word.lemma_ != \"-PRON-\" else word.lower_ for word in mytokens]\n",
        "    mytokens = \" \".join([i for i in mytokens])\n",
        "    return mytokens"
      ],
      "execution_count": 4,
      "outputs": [
        {
          "output_type": "stream",
          "text": [
            "load corpus\n",
            "corpus loaded succesfully\n"
          ],
          "name": "stdout"
        }
      ]
    },
    {
      "cell_type": "code",
      "metadata": {
        "id": "5zWwD9Gd-AMM",
        "colab_type": "code",
        "colab": {}
      },
      "source": [
        "data = pd.concat([text, tag], axis=1)\n",
        "data = clean_data(data)"
      ],
      "execution_count": 5,
      "outputs": []
    },
    {
      "cell_type": "code",
      "metadata": {
        "id": "sftJpH9j5sD9",
        "colab_type": "code",
        "colab": {
          "base_uri": "https://localhost:8080/",
          "height": 116,
          "referenced_widgets": [
            "772408d6c408422e8c0a96ad014ad3d2",
            "fdbe8f72b9824ae1bbd0b8114b73e070",
            "e0a395de4a0140238a56adfe4e61894d",
            "b613a4d2e527426781bb9d6b2be46c19",
            "fb0dfc08e5504040955c690d8dbabbb0",
            "a89032638265476fa32ed401cf674f15",
            "319165e9d5ff42308f65fb2804f2fe21",
            "fce2c3afa1164cf38a6ef72c574b636c",
            "488a436a1f4e49eaacfe116af25e53de",
            "9eb1a33c26f643d89ed1091b306befb8",
            "4e3099a588594c6398f4338f835e9d22",
            "ba666d1eb52d4229a5478cb4c11a510f",
            "2018171522034779829b020c4e3e123d",
            "53a8da944ff64d2daac6715d7baf7f91",
            "2641d8a1d247414b9b961077e1cf996a",
            "290b3df6db4c42daae0236da6fc0cb34"
          ]
        },
        "outputId": "1ce5ff01-5ae9-47d8-abc3-3f9e5c2843c1"
      },
      "source": [
        "from tqdm.auto import tqdm\n",
        "tokens = list()\n",
        "for doc in tqdm(parser.pipe(data['text'].astype('unicode').values, batch_size=100,\n",
        "                        n_threads=10)):\n",
        "  tokens.append(spacy_tokenizer(doc))\n",
        "\n",
        "# because it couse problem drop index 4081\n",
        "data[\"processed_text\"] = tokens\n",
        "data = data.drop(data.index[[4081]])\n",
        "data = data[~(data.processed_text.str.len() < 10)]\n",
        "tqdm.pandas()\n",
        "data = data[data.processed_text.progress_apply(lambda x: detect(x) == 'pl')]"
      ],
      "execution_count": 6,
      "outputs": [
        {
          "output_type": "display_data",
          "data": {
            "application/vnd.jupyter.widget-view+json": {
              "model_id": "772408d6c408422e8c0a96ad014ad3d2",
              "version_minor": 0,
              "version_major": 2
            },
            "text/plain": [
              "HBox(children=(FloatProgress(value=1.0, bar_style='info', max=1.0), HTML(value='')))"
            ]
          },
          "metadata": {
            "tags": []
          }
        },
        {
          "output_type": "stream",
          "text": [
            "\n"
          ],
          "name": "stdout"
        },
        {
          "output_type": "display_data",
          "data": {
            "application/vnd.jupyter.widget-view+json": {
              "model_id": "488a436a1f4e49eaacfe116af25e53de",
              "version_minor": 0,
              "version_major": 2
            },
            "text/plain": [
              "HBox(children=(FloatProgress(value=0.0, max=9696.0), HTML(value='')))"
            ]
          },
          "metadata": {
            "tags": []
          }
        },
        {
          "output_type": "stream",
          "text": [
            "\n"
          ],
          "name": "stdout"
        }
      ]
    },
    {
      "cell_type": "code",
      "metadata": {
        "id": "6R4kB8frlx6c",
        "colab_type": "code",
        "colab": {}
      },
      "source": [
        "data.sample(100).to_json('./test_case_parse_text.json')"
      ],
      "execution_count": 7,
      "outputs": []
    },
    {
      "cell_type": "code",
      "metadata": {
        "id": "myM3BTEVGrGw",
        "colab_type": "code",
        "colab": {
          "base_uri": "https://localhost:8080/",
          "height": 511
        },
        "outputId": "c20bf823-3656-4b0e-d33f-d6af8d85a3a0"
      },
      "source": [
        "#@title Word Cloud grouped by type of harmfulness { run: \"auto\", vertical-output: true, display-mode: \"form\" }\n",
        "tweets = \"non-harmful\" #@param [\"non-harmful\", \"cyberbullying\", \"hate-speech\"]\n",
        "plot_type = \"Word Cloud\" #@param [\"Word Cloud\", \"Frequency Visualizer\", \"Class Balance\"]\n",
        "tweet_dict = dict(zip([\"non-harmful\", \"cyberbullying\", \"hate-speech\"], [0,1,2]))\n",
        "\n",
        "import matplotlib.pyplot as plt\n",
        "import numpy as np\n",
        "from wordcloud import WordCloud\n",
        "from sklearn.feature_extraction.text import CountVectorizer\n",
        "from yellowbrick.target import ClassBalance\n",
        "from spacy.lang.pl import STOP_WORDS\n",
        "from yellowbrick import text\n",
        "\n",
        "def plot_data(data: np.array, plot_type: str) -> None:\n",
        "  if plot_type == 'Word Cloud':\n",
        "    wordcloud = WordCloud(\n",
        "        width = 300,\n",
        "        height = 200,\n",
        "        background_color = 'black').generate(str(data))\n",
        "    fig = plt.figure(\n",
        "        figsize = (10, 15),\n",
        "        facecolor = 'k',\n",
        "        edgecolor = 'k')\n",
        "    plt.imshow(wordcloud, interpolation = 'bilinear')\n",
        "    plt.axis('off')\n",
        "    plt.tight_layout(pad=0)\n",
        "    plt.show()\n",
        "  elif plot_type == 'Frequency Visualizer':\n",
        "    vectorizer = CountVectorizer(stop_words=STOP_WORDS)\n",
        "    docs = vectorizer.fit_transform(data)\n",
        "    features = vectorizer.get_feature_names()\n",
        "    plt.rcParams['figure.figsize'] = 15, 10\n",
        "    visualizer = text.FreqDistVisualizer(features=features, orient='h', n=25)\n",
        "    visualizer.fit(docs)\n",
        "    visualizer.poof()\n",
        "  elif plot_type == 'Class Balance':\n",
        "    visualizer = ClassBalance(labels=[\"non-harmful\", \"cyberbullying\", \"hate-speech\"])\n",
        "    visualizer.fit(data.tag)\n",
        "    visualizer.show()\n",
        "\n",
        "if plot_type == 'Class Balance':\n",
        "  doc = data\n",
        "else:\n",
        "  doc = data[data.tag == tweet_dict[tweets]].processed_text.values\n",
        "\n",
        "plot_data(doc, plot_type)\n",
        "  "
      ],
      "execution_count": 8,
      "outputs": [
        {
          "output_type": "display_data",
          "data": {
            "image/png": "[encoded data removed]",
            "text/plain": [
              "<Figure size 720x1080 with 1 Axes>"
            ]
          },
          "metadata": {
            "tags": []
          }
        }
      ]
    },
    {
      "cell_type": "markdown",
      "metadata": {
        "id": "z9_PWWKSAJDu",
        "colab_type": "text"
      },
      "source": [
        "## Modeling part\n",
        "\n",
        "The first model must be simple and effective as possible. First, let's try the logistic regression model. If it brings the expected results, we will be able to try other models. We compare LR to the Dummy Classifier to get the view of our progress.\n",
        "The entire model will be closed in a sklearn pipeline, which will allow us to easily test various combinations of models. Next, we will cross-validate to check the model against the given F1 micro and F1 macro metrics.\n",
        "\n",
        "**To Do:**\n",
        "- Convert a collection of text documents to a matrix of token counts;\n",
        "- Transform a count matrix to a normalized tf or tf-idf representation;\n",
        "- Select features according to a percentile of the highest scores (with different measures);\n",
        "- Add Logistic Regression model;\n",
        "- Score with Cross Validation;"
      ]
    },
    {
      "cell_type": "code",
      "metadata": {
        "id": "1To6CwOcDyG_",
        "colab_type": "code",
        "colab": {
          "base_uri": "https://localhost:8080/",
          "height": 212
        },
        "outputId": "bae49cb2-023a-4b32-9ba7-f744f00bf9e9"
      },
      "source": [
        "from sklearn.model_selection import train_test_split\n",
        "from sklearn.feature_extraction.text import CountVectorizer, TfidfTransformer\n",
        "from sklearn.feature_selection import SelectPercentile, f_classif, chi2\n",
        "# Logistic Regression Classifier\n",
        "from sklearn.linear_model import LogisticRegression\n",
        "from sklearn.pipeline import Pipeline\n",
        "\n",
        "# Create pipeline using Bag of Words\n",
        "pipe = Pipeline([('vect', CountVectorizer()),\n",
        "                ('tfidf', TfidfTransformer()),\n",
        "                ('selector', SelectPercentile(chi2, percentile=50)),\n",
        "                ('clf', LogisticRegression(n_jobs=1, C=1e5, max_iter=100, solver='liblinear', dual=True, random_state=23)),\n",
        "               ])\n",
        "\n",
        "\n",
        "X_train = data['processed_text'].values # the features we want to analyze\n",
        "y_train = data['tag'].values # the labels, or answers, we want to test against\n",
        "\n",
        "print(X_train.shape, y_train.shape)\n",
        "# model generation\n",
        "from sklearn.model_selection import cross_val_score\n",
        "from sklearn import metrics\n",
        "\n",
        "def getScores(estimator, x, y):\n",
        "    yPred = estimator.predict(x)\n",
        "    return (metrics.accuracy_score(y, yPred), \n",
        "            metrics.f1_score(y, yPred, average='micro'), \n",
        "            metrics.f1_score(y, yPred, average='macro'))\n",
        "\n",
        "def my_scorer(estimator, x, y):\n",
        "    a, p, r = getScores(estimator, x, y)\n",
        "    print(\"Accuracy: {} | F1 micro: {} | F1 macro: {}\".format(a, p, r))\n",
        "    return a+p+r\n",
        "  \n",
        "scores = cross_val_score(pipe, X_train, y_train, scoring=my_scorer, cv=10)"
      ],
      "execution_count": 9,
      "outputs": [
        {
          "output_type": "stream",
          "text": [
            "(9223,) (9223,)\n",
            "Accuracy: 0.894907908992416 | F1 micro: 0.894907908992416 | F1 macro: 0.4266149870801034\n",
            "Accuracy: 0.8970747562296858 | F1 micro: 0.8970747562296858 | F1 macro: 0.4463077018975748\n",
            "Accuracy: 0.8884073672806068 | F1 micro: 0.8884073672806068 | F1 macro: 0.44518975716158815\n",
            "Accuracy: 0.8937093275488069 | F1 micro: 0.8937093275488069 | F1 macro: 0.39997522606218255\n",
            "Accuracy: 0.9045553145336226 | F1 micro: 0.9045553145336226 | F1 macro: 0.440155819055422\n",
            "Accuracy: 0.8926247288503254 | F1 micro: 0.8926247288503254 | F1 macro: 0.4641400634485057\n",
            "Accuracy: 0.8947939262472885 | F1 micro: 0.8947939262472885 | F1 macro: 0.4135228251507322\n",
            "Accuracy: 0.886117136659436 | F1 micro: 0.886117136659436 | F1 macro: 0.3893495956715698\n",
            "Accuracy: 0.8980477223427332 | F1 micro: 0.8980477223427332 | F1 macro: 0.39170968081744445\n",
            "Accuracy: 0.9013015184381779 | F1 micro: 0.9013015184381779 | F1 macro: 0.46243675684868407\n"
          ],
          "name": "stdout"
        }
      ]
    },
    {
      "cell_type": "code",
      "metadata": {
        "id": "hRvWso2FGPv6",
        "colab_type": "code",
        "colab": {
          "base_uri": "https://localhost:8080/",
          "height": 141
        },
        "outputId": "b6da58e0-2c6d-491a-b1bf-0ea0ada9eae4"
      },
      "source": [
        "# Fit pipe with a train dataset\n",
        "pipe.fit(X_train, y_train)"
      ],
      "execution_count": 10,
      "outputs": [
        {
          "output_type": "execute_result",
          "data": {
            "text/plain": [
              "Pipeline(steps=[('vect', CountVectorizer()), ('tfidf', TfidfTransformer()),\n",
              "                ('selector',\n",
              "                 SelectPercentile(percentile=50,\n",
              "                                  score_func=<function chi2 at 0x7f849d2526a8>)),\n",
              "                ('clf',\n",
              "                 LogisticRegression(C=100000.0, dual=True, n_jobs=1,\n",
              "                                    random_state=23, solver='liblinear'))])"
            ]
          },
          "metadata": {
            "tags": []
          },
          "execution_count": 10
        }
      ]
    },
    {
      "cell_type": "markdown",
      "metadata": {
        "id": "nwoMY7Q_cFcY",
        "colab_type": "text"
      },
      "source": [
        "## Test Model"
      ]
    },
    {
      "cell_type": "code",
      "metadata": {
        "id": "LDNiWFwDGW0U",
        "colab_type": "code",
        "colab": {
          "base_uri": "https://localhost:8080/",
          "height": 34
        },
        "outputId": "9c08962e-4a80-48bc-a8c8-446a979cfcf9"
      },
      "source": [
        "# test \n",
        "text_test = pd.read_csv('https://storage.googleapis.com/poleval_data/test_set_only_text.txt', sep=\"\\n\", header=None, names=['text'], encoding='utf-8')\n",
        "tag_test = pd.read_csv('https://storage.googleapis.com/poleval_data/test_set_only_tags.txt', sep=\"\\n\", header=None, names=['tag'], encoding='utf-8')\n",
        "\n",
        "data_test = pd.concat([text_test, tag_test], axis=1)\n",
        "\n",
        "d_comp = data_test.copy()\n",
        "# d_comp = d_comp.text.str.replace('@anonymized_account', '')\n",
        "d_comp = clean_data(d_comp)\n",
        "# data = data[data.text.apply(lambda x: detect(x) == 'pl')]\n",
        "\n",
        "d_comp.shape, data_test.shape"
      ],
      "execution_count": 11,
      "outputs": [
        {
          "output_type": "execute_result",
          "data": {
            "text/plain": [
              "((1000, 2), (1000, 2))"
            ]
          },
          "metadata": {
            "tags": []
          },
          "execution_count": 11
        }
      ]
    },
    {
      "cell_type": "code",
      "metadata": {
        "id": "KD5yIyqCKmS6",
        "colab_type": "code",
        "colab": {
          "base_uri": "https://localhost:8080/",
          "height": 197
        },
        "outputId": "d19a3634-7b5e-4a77-b79e-22473e779193"
      },
      "source": [
        "d_comp.head()"
      ],
      "execution_count": 12,
      "outputs": [
        {
          "output_type": "execute_result",
          "data": {
            "text/html": [
              "<div>\n",
              "<style scoped>\n",
              "    .dataframe tbody tr th:only-of-type {\n",
              "        vertical-align: middle;\n",
              "    }\n",
              "\n",
              "    .dataframe tbody tr th {\n",
              "        vertical-align: top;\n",
              "    }\n",
              "\n",
              "    .dataframe thead th {\n",
              "        text-align: right;\n",
              "    }\n",
              "</style>\n",
              "<table border=\"1\" class=\"dataframe\">\n",
              "  <thead>\n",
              "    <tr style=\"text-align: right;\">\n",
              "      <th></th>\n",
              "      <th>text</th>\n",
              "      <th>tag</th>\n",
              "    </tr>\n",
              "  </thead>\n",
              "  <tbody>\n",
              "    <tr>\n",
              "      <th>0</th>\n",
              "      <td>Spoko, jak im Duda z Morawieckim zamówią po p...</td>\n",
              "      <td>0</td>\n",
              "    </tr>\n",
              "    <tr>\n",
              "      <th>1</th>\n",
              "      <td>Ale on tu nie miał szans jej zagrania, a ta ...</td>\n",
              "      <td>0</td>\n",
              "    </tr>\n",
              "    <tr>\n",
              "      <th>2</th>\n",
              "      <td>No czy Prezes nie miał racji, mówiąc,ze to są...</td>\n",
              "      <td>0</td>\n",
              "    </tr>\n",
              "    <tr>\n",
              "      <th>3</th>\n",
              "      <td>Przecież to nawet nie jest przewrotka 😂</td>\n",
              "      <td>0</td>\n",
              "    </tr>\n",
              "    <tr>\n",
              "      <th>4</th>\n",
              "      <td>Owszem podatki tak. Ale nie w takich okolicz...</td>\n",
              "      <td>0</td>\n",
              "    </tr>\n",
              "  </tbody>\n",
              "</table>\n",
              "</div>"
            ],
            "text/plain": [
              "                                                text  tag\n",
              "0   Spoko, jak im Duda z Morawieckim zamówią po p...    0\n",
              "1    Ale on tu nie miał szans jej zagrania, a ta ...    0\n",
              "2   No czy Prezes nie miał racji, mówiąc,ze to są...    0\n",
              "3            Przecież to nawet nie jest przewrotka 😂    0\n",
              "4    Owszem podatki tak. Ale nie w takich okolicz...    0"
            ]
          },
          "metadata": {
            "tags": []
          },
          "execution_count": 12
        }
      ]
    },
    {
      "cell_type": "code",
      "metadata": {
        "id": "WBuwjqdMI23x",
        "colab_type": "code",
        "colab": {
          "base_uri": "https://localhost:8080/",
          "height": 84,
          "referenced_widgets": [
            "ac8db21136104b6485aa424f3674c0e9",
            "25e2935908a243c7b958af6e852f3385",
            "c7f3367c26e5477d88195f0b24fcbdc8",
            "630fc24024e34a559441037ad62ecc5e",
            "073e8c2edd024311afdd4b02dc796ba7",
            "0c2eab2b018441b4945df0b6594db1ec",
            "583bd6131c994c7a85f6e25e351584cd",
            "db0e5662368843ef9265d81ac10ce476"
          ]
        },
        "outputId": "e672f0c6-fe4d-4771-dcaf-83d826a750dd"
      },
      "source": [
        "tokens = list()\n",
        "for doc in tqdm(parser.pipe(d_comp['text'].astype('unicode').values, batch_size=100,\n",
        "                        n_threads=5)):\n",
        "  tokens.append(spacy_tokenizer(doc))\n",
        "\n",
        "d_comp[\"processed_text\"] = tokens\n",
        "\n",
        "d_comp.shape"
      ],
      "execution_count": 13,
      "outputs": [
        {
          "output_type": "display_data",
          "data": {
            "application/vnd.jupyter.widget-view+json": {
              "model_id": "ac8db21136104b6485aa424f3674c0e9",
              "version_minor": 0,
              "version_major": 2
            },
            "text/plain": [
              "HBox(children=(FloatProgress(value=1.0, bar_style='info', max=1.0), HTML(value='')))"
            ]
          },
          "metadata": {
            "tags": []
          }
        },
        {
          "output_type": "stream",
          "text": [
            "\n"
          ],
          "name": "stdout"
        },
        {
          "output_type": "execute_result",
          "data": {
            "text/plain": [
              "(1000, 3)"
            ]
          },
          "metadata": {
            "tags": []
          },
          "execution_count": 13
        }
      ]
    },
    {
      "cell_type": "code",
      "metadata": {
        "id": "8BX_stSDI8Wv",
        "colab_type": "code",
        "colab": {}
      },
      "source": [
        "# predicted = pipe.predict(d_comp[\"processed_text\"].values)\n",
        "predicted = np.argmax(pipe.predict_proba(d_comp[\"processed_text\"].values), axis=1)\n",
        "y_test_dev = d_comp['tag']"
      ],
      "execution_count": 14,
      "outputs": []
    },
    {
      "cell_type": "code",
      "metadata": {
        "id": "Tg9dP-MZePup",
        "colab_type": "code",
        "colab": {
          "base_uri": "https://localhost:8080/",
          "height": 70
        },
        "outputId": "0ccf3da8-b11b-4b0b-c588-e45b82963a5a"
      },
      "source": [
        "# dummy predictor\n",
        "from sklearn.dummy import DummyClassifier\n",
        "dummy_clf = DummyClassifier(strategy=\"most_frequent\")\n",
        "dummy_clf.fit(X_train, y_train)\n",
        "predicted_dumy = dummy_clf.predict(d_comp[\"processed_text\"].values)\n",
        "print(\"Dummy classifier Accuracy:\",metrics.accuracy_score(y_test_dev, predicted_dumy))\n",
        "print(\"Dummy classifier F1 micro:\",metrics.f1_score(y_test_dev, predicted_dumy, average='micro'))\n",
        "print(\"Dummy classifier F1 macro:\",metrics.f1_score(y_test_dev, predicted_dumy, average='macro'))"
      ],
      "execution_count": 15,
      "outputs": [
        {
          "output_type": "stream",
          "text": [
            "Dummy classifier Accuracy: 0.866\n",
            "Dummy classifier F1 micro: 0.866\n",
            "Dummy classifier F1 macro: 0.3093962129331904\n"
          ],
          "name": "stdout"
        }
      ]
    },
    {
      "cell_type": "code",
      "metadata": {
        "id": "7b9pUD7SJAw3",
        "colab_type": "code",
        "colab": {
          "base_uri": "https://localhost:8080/",
          "height": 87
        },
        "outputId": "5f120cef-aa66-4b21-f049-3e94921a117d"
      },
      "source": [
        "# Model Accuracy\n",
        "print(predicted.shape)\n",
        "print(\"Logistic Regression Accuracy:\",metrics.accuracy_score(y_test_dev, predicted))\n",
        "print(\"Logistic Regression F1 micro:\",metrics.f1_score(y_test_dev, predicted, average='micro'))\n",
        "print(\"Logistic Regression F1 macro:\",metrics.f1_score(y_test_dev, predicted, average='macro'))"
      ],
      "execution_count": 16,
      "outputs": [
        {
          "output_type": "stream",
          "text": [
            "(1000,)\n",
            "Logistic Regression Accuracy: 0.878\n",
            "Logistic Regression F1 micro: 0.878\n",
            "Logistic Regression F1 macro: 0.48279464839651826\n"
          ],
          "name": "stdout"
        }
      ]
    },
    {
      "cell_type": "markdown",
      "metadata": {
        "id": "MOdRR10ecM9j",
        "colab_type": "text"
      },
      "source": [
        "## Explain and save"
      ]
    },
    {
      "cell_type": "code",
      "metadata": {
        "id": "cCx-d4hlR6th",
        "colab_type": "code",
        "cellView": "form",
        "colab": {
          "base_uri": "https://localhost:8080/",
          "height": 604
        },
        "outputId": "f09d4517-abce-4ca8-f293-0c971833b4fe"
      },
      "source": [
        "#@title Model Explain { run: \"auto\", vertical-output: true }\n",
        "plot_type = \"Classification Report\" #@param [\"Classification Report\", \"Confusion Matrix\", \"ROCAUC\", \"Class Prediction Error\"]\n",
        "\n",
        "import matplotlib.pyplot as plt\n",
        "from yellowbrick.classifier import ClassificationReport, ConfusionMatrix, ROCAUC, ClassPredictionError\n",
        "\n",
        "classes = [\"non-harmful\", \"cyberbullying\", \"hate-speech\"]\n",
        "\n",
        "def visualize_model(X, y, estimator, plot_type):\n",
        "\n",
        "    if plot_type == 'Classification Report':\n",
        "      visualizer = ClassificationReport(estimator, support=True, classes = classes,\n",
        "                                        cmap=\"YlGn\", size=(900, 600))\n",
        "\n",
        "    elif plot_type == 'Confusion Matrix':\n",
        "      visualizer = ConfusionMatrix(estimator, classes=classes,\n",
        "                                   cmap=\"YlGn\", size=(900, 600))\n",
        "\n",
        "    elif plot_type == 'ROCAUC':\n",
        "      visualizer = ROCAUC(estimator, classes=classes,\n",
        "                          cmap=\"YlGn\", size=(900, 600))\n",
        "\n",
        "    elif plot_type == 'Class Prediction Error':\n",
        "      visualizer = ClassPredictionError(estimator, classes=classes,\n",
        "                                        cmap=\"YlGn\", size=(900, 600))\n",
        "      plt.yscale('log')\n",
        "    visualizer.score(X, y)\n",
        "    visualizer.poof()\n",
        "\n",
        "\n",
        "visualize_model(d_comp[\"processed_text\"].values, y_test_dev, pipe, plot_type)"
      ],
      "execution_count": 17,
      "outputs": [
        {
          "output_type": "display_data",
          "data": {
            "image/png": "[encoded data removed]",
            "text/plain": [
              "<Figure size 900x600 with 2 Axes>"
            ]
          },
          "metadata": {
            "tags": []
          }
        }
      ]
    },
    {
      "cell_type": "code",
      "metadata": {
        "id": "tUwp1xNXF4nB",
        "colab_type": "code",
        "colab": {
          "base_uri": "https://localhost:8080/",
          "height": 140
        },
        "outputId": "7c6fffa6-d0d5-40e7-efc6-9badede9b0bd"
      },
      "source": [
        "import eli5\n",
        "from eli5.lime import TextExplainer\n",
        "\n",
        "te = TextExplainer(random_state=42)\n",
        "te.fit(d_comp[\"processed_text\"].values[24], pipe.predict_proba)\n",
        "te.show_prediction(target_names=classes)"
      ],
      "execution_count": 18,
      "outputs": [
        {
          "output_type": "execute_result",
          "data": {
            "text/html": [
              "\n",
              "    <style>\n",
              "    table.eli5-weights tr:hover {\n",
              "        filter: brightness(85%);\n",
              "    }\n",
              "</style>\n",
              "\n",
              "\n",
              "\n",
              "    \n",
              "\n",
              "    \n",
              "\n",
              "    \n",
              "\n",
              "    \n",
              "\n",
              "    \n",
              "\n",
              "    \n",
              "\n",
              "\n",
              "    \n",
              "\n",
              "    \n",
              "\n",
              "    \n",
              "\n",
              "    \n",
              "        \n",
              "\n",
              "    \n",
              "\n",
              "        \n",
              "            \n",
              "                \n",
              "                \n",
              "    \n",
              "        <p style=\"margin-bottom: 0.5em; margin-top: 0em\">\n",
              "            <b>\n",
              "    \n",
              "        y=hate-speech\n",
              "    \n",
              "</b>\n",
              "\n",
              "    \n",
              "    (probability <b>0.514</b>, score <b>0.054</b>)\n",
              "\n",
              "top features\n",
              "        </p>\n",
              "    \n",
              "    <table class=\"eli5-weights\"\n",
              "           style=\"border-collapse: collapse; border: none; margin-top: 0em; table-layout: auto; margin-bottom: 2em;\">\n",
              "        <thead>\n",
              "        <tr style=\"border: none;\">\n",
              "            \n",
              "                <th style=\"padding: 0 1em 0 0.5em; text-align: right; border: none;\" title=\"Feature contribution already accounts for the feature value (for linear models, contribution = weight * feature value), and the sum of feature contributions is equal to the score or, for some classifiers, to the probability. Feature values are shown if &quot;show_feature_values&quot; is True.\">\n",
              "                    Contribution<sup>?</sup>\n",
              "                </th>\n",
              "            \n",
              "            <th style=\"padding: 0 0.5em 0 0.5em; text-align: left; border: none;\">Feature</th>\n",
              "            \n",
              "        </tr>\n",
              "        </thead>\n",
              "        <tbody>\n",
              "        \n",
              "            <tr style=\"background-color: hsl(120, 100.00%, 80.00%); border: none;\">\n",
              "    <td style=\"padding: 0 1em 0 0.5em; text-align: right; border: none;\">\n",
              "        +3.932\n",
              "    </td>\n",
              "    <td style=\"padding: 0 0.5em 0 0.5em; text-align: left; border: none;\">\n",
              "        szmata\n",
              "    </td>\n",
              "    \n",
              "</tr>\n",
              "        \n",
              "            <tr style=\"background-color: hsl(120, 100.00%, 99.97%); border: none;\">\n",
              "    <td style=\"padding: 0 1em 0 0.5em; text-align: right; border: none;\">\n",
              "        +0.000\n",
              "    </td>\n",
              "    <td style=\"padding: 0 0.5em 0 0.5em; text-align: left; border: none;\">\n",
              "        &lt;BIAS&gt;\n",
              "    </td>\n",
              "    \n",
              "</tr>\n",
              "        \n",
              "        \n",
              "\n",
              "        \n",
              "        \n",
              "            <tr style=\"background-color: hsl(0, 100.00%, 80.19%); border: none;\">\n",
              "    <td style=\"padding: 0 1em 0 0.5em; text-align: right; border: none;\">\n",
              "        -3.878\n",
              "    </td>\n",
              "    <td style=\"padding: 0 0.5em 0 0.5em; text-align: left; border: none;\">\n",
              "        komentować\n",
              "    </td>\n",
              "    \n",
              "</tr>\n",
              "        \n",
              "\n",
              "        </tbody>\n",
              "    </table>\n",
              "\n",
              "            \n",
              "        \n",
              "\n",
              "        \n",
              "\n",
              "\n",
              "\n",
              "    \n",
              "\n",
              "    \n",
              "\n",
              "    \n",
              "\n",
              "    \n",
              "\n",
              "\n",
              "    \n",
              "\n",
              "    \n",
              "\n",
              "    \n",
              "\n",
              "    \n",
              "\n",
              "    \n",
              "\n",
              "    \n",
              "\n",
              "\n",
              "    \n",
              "\n",
              "    \n",
              "\n",
              "    \n",
              "\n",
              "    \n",
              "\n",
              "    \n",
              "\n",
              "    \n",
              "\n",
              "\n",
              "\n"
            ],
            "text/plain": [
              "<IPython.core.display.HTML object>"
            ]
          },
          "metadata": {
            "tags": []
          },
          "execution_count": 18
        }
      ]
    },
    {
      "cell_type": "markdown",
      "metadata": {
        "id": "VuYxnW7tu1ZP",
        "colab_type": "text"
      },
      "source": [
        "### Model save"
      ]
    },
    {
      "cell_type": "code",
      "metadata": {
        "id": "smAddYUtu3Du",
        "colab_type": "code",
        "colab": {
          "base_uri": "https://localhost:8080/",
          "height": 34
        },
        "outputId": "f1dfb0db-0252-40e6-ed0a-c00d3f75bf81"
      },
      "source": [
        "import joblib\n",
        "# save the model to disk\n",
        "filename = 'regression_pipeline_exp0.sav'\n",
        "joblib.dump(pipe, filename)"
      ],
      "execution_count": 19,
      "outputs": [
        {
          "output_type": "execute_result",
          "data": {
            "text/plain": [
              "['regression_pipeline_exp0.sav']"
            ]
          },
          "metadata": {
            "tags": []
          },
          "execution_count": 19
        }
      ]
    }
  ]
}
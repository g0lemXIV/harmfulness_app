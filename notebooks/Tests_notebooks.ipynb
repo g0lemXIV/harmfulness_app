{
 "cells": [
  {
   "cell_type": "markdown",
   "metadata": {},
   "source": [
    "### Run docker container"
   ]
  },
  {
   "cell_type": "code",
   "execution_count": null,
   "metadata": {},
   "outputs": [],
   "source": [
    "!docker pull rafikrze/harmfulness_app:0.1\n",
    "!docker run -p 8091:8000 -d rafikrze/harmfulness_app:0.1"
   ]
  },
  {
   "cell_type": "markdown",
   "metadata": {},
   "source": [
    "### Load libraries and data"
   ]
  },
  {
   "cell_type": "code",
   "execution_count": 1,
   "metadata": {},
   "outputs": [],
   "source": [
    "import requests\n",
    "import json\n",
    "import pandas as pd\n",
    "import numpy as np\n",
    "from sklearn import metrics\n",
    "from tqdm.notebook import tqdm\n",
    "\n",
    "\n",
    "text_test = pd.read_csv('https://storage.googleapis.com/poleval_data/test_set_only_text.txt',\n",
    "                        sep=\"\\n\", header=None, names=['text'], encoding='utf-8')\n",
    "\n",
    "url = 'http://localhost:8091/v1/predict/'\n",
    "data_block = {\"text\": \"to jest pierwszy test api\"}\n",
    "headers = {'token': 'test'}"
   ]
  },
  {
   "cell_type": "markdown",
   "metadata": {},
   "source": [
    "## Measure time for same post data"
   ]
  },
  {
   "cell_type": "code",
   "execution_count": 2,
   "metadata": {},
   "outputs": [
    {
     "name": "stdout",
     "output_type": "stream",
     "text": [
      "29.5 ms ± 642 µs per loop (mean ± std. dev. of 7 runs, 10 loops each)\n"
     ]
    }
   ],
   "source": [
    "%%timeit\n",
    "requests.post(url, data=json.dumps(data_block), headers=headers)"
   ]
  },
  {
   "cell_type": "markdown",
   "metadata": {},
   "source": [
    "# Sample different data with API and measure time"
   ]
  },
  {
   "cell_type": "code",
   "execution_count": 4,
   "metadata": {},
   "outputs": [
    {
     "name": "stdout",
     "output_type": "stream",
     "text": [
      "33.4 ms ± 1.35 ms per loop (mean ± std. dev. of 7 runs, 10 loops each)\n"
     ]
    }
   ],
   "source": [
    "%%timeit\n",
    "data_block = {\"text\": text_test.sample(1).values[0][0]}\n",
    "requests.post(url, data=json.dumps(data_block), headers=headers)"
   ]
  },
  {
   "cell_type": "markdown",
   "metadata": {},
   "source": [
    "## Check metrics"
   ]
  },
  {
   "cell_type": "code",
   "execution_count": 5,
   "metadata": {},
   "outputs": [
    {
     "name": "stdout",
     "output_type": "stream",
     "text": [
      "The shape of the test data: (1000, 2)\n"
     ]
    }
   ],
   "source": [
    "# test / same functionality as in experiment\n",
    "tag_test = pd.read_csv('https://storage.googleapis.com/poleval_data/test_set_only_tags.txt', sep=\"\\n\", header=None, names=['tag'], encoding='utf-8')\n",
    "\n",
    "data_test = pd.concat([text_test, tag_test], axis=1)\n",
    "\n",
    "# check data shape\n",
    "assert(data_test.shape == (1000, 2))\n",
    "print(\"The shape of the test data:\", data_test.shape)"
   ]
  },
  {
   "cell_type": "code",
   "execution_count": 6,
   "metadata": {},
   "outputs": [
    {
     "data": {
      "application/vnd.jupyter.widget-view+json": {
       "model_id": "09b551cd211e4418b2edad8f80799e61",
       "version_major": 2,
       "version_minor": 0
      },
      "text/plain": [
       "HBox(children=(FloatProgress(value=1.0, bar_style='info', max=1.0), HTML(value='')))"
      ]
     },
     "metadata": {},
     "output_type": "display_data"
    },
    {
     "name": "stdout",
     "output_type": "stream",
     "text": [
      "\n"
     ]
    }
   ],
   "source": [
    "predictions_bin = list()\n",
    "predictions_args = list()\n",
    "real_value = list()\n",
    "bad_text = list()\n",
    "\n",
    "for index, row in tqdm(data_test.iterrows()):\n",
    "    data_block = {\"text\": row['text']}\n",
    "    r = requests.post(url, data=json.dumps(data_block), headers=headers)\n",
    "    try:\n",
    "        prediction = json.loads(r.content.decode('utf-8'))\n",
    "    except Exception as e:\n",
    "        # when api recognize bad language or to short twit continue\n",
    "        bad_text.append(row)\n",
    "        continue\n",
    "    predictions_bin.append(int(prediction['prediction']))\n",
    "    predictions_args.append(prediction['prediction_proba'])\n",
    "    real_value.append(row['tag'])"
   ]
  },
  {
   "cell_type": "code",
   "execution_count": 7,
   "metadata": {},
   "outputs": [
    {
     "name": "stdout",
     "output_type": "stream",
     "text": [
      "Tested cases:  917\n",
      "Logistic Regression Accuracy: 0.8669574700109052\n",
      "Logistic Regression F1 micro: 0.8669574700109052\n",
      "Logistic Regression F1 macro: 0.47482843778145795\n"
     ]
    }
   ],
   "source": [
    "# check binary and probability scores\n",
    "assert all(predictions_bin == np.argmax(predictions_args, axis=1))\n",
    "\n",
    "# Model Test Accuracy\n",
    "print(\"Tested cases: \", len(real_value))\n",
    "print(\"Logistic Regression Accuracy:\",metrics.accuracy_score(real_value, predictions_bin))\n",
    "print(\"Logistic Regression F1 micro:\",metrics.f1_score(real_value, predictions_bin, average='micro'))\n",
    "print(\"Logistic Regression F1 macro:\",metrics.f1_score(real_value, predictions_bin, average='macro'))"
   ]
  },
  {
   "cell_type": "code",
   "execution_count": 8,
   "metadata": {},
   "outputs": [
    {
     "data": {
      "text/html": [
       "<div>\n",
       "<style scoped>\n",
       "    .dataframe tbody tr th:only-of-type {\n",
       "        vertical-align: middle;\n",
       "    }\n",
       "\n",
       "    .dataframe tbody tr th {\n",
       "        vertical-align: top;\n",
       "    }\n",
       "\n",
       "    .dataframe thead th {\n",
       "        text-align: right;\n",
       "    }\n",
       "</style>\n",
       "<table border=\"1\" class=\"dataframe\">\n",
       "  <thead>\n",
       "    <tr style=\"text-align: right;\">\n",
       "      <th></th>\n",
       "      <th>text</th>\n",
       "    </tr>\n",
       "    <tr>\n",
       "      <th>tag</th>\n",
       "      <th></th>\n",
       "    </tr>\n",
       "  </thead>\n",
       "  <tbody>\n",
       "    <tr>\n",
       "      <th>0</th>\n",
       "      <td>78</td>\n",
       "    </tr>\n",
       "    <tr>\n",
       "      <th>2</th>\n",
       "      <td>5</td>\n",
       "    </tr>\n",
       "  </tbody>\n",
       "</table>\n",
       "</div>"
      ],
      "text/plain": [
       "     text\n",
       "tag      \n",
       "0      78\n",
       "2       5"
      ]
     },
     "execution_count": 8,
     "metadata": {},
     "output_type": "execute_result"
    }
   ],
   "source": [
    "#check what type of values were not included\n",
    "pd.DataFrame(bad_text).groupby('tag').count()"
   ]
  }
 ],
 "metadata": {
  "kernelspec": {
   "display_name": "Python 3",
   "language": "python",
   "name": "python3"
  },
  "language_info": {
   "codemirror_mode": {
    "name": "ipython",
    "version": 3
   },
   "file_extension": ".py",
   "mimetype": "text/x-python",
   "name": "python",
   "nbconvert_exporter": "python",
   "pygments_lexer": "ipython3",
   "version": "3.5.2"
  }
 },
 "nbformat": 4,
 "nbformat_minor": 4
}
